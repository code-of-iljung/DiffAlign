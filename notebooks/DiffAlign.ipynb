{
 "cells": [
  {
   "cell_type": "code",
   "execution_count": 1,
   "metadata": {},
   "outputs": [],
   "source": [
    "import os\n",
    "import py3Dmol\n",
    "%load_ext autoreload\n",
    "%autoreload 2\n",
    "\n",
    "os.chdir('..')\n",
    "os.getcwd()\n",
    "\n",
    "from models.epsnet import *\n",
    "from utils.datasets import *\n",
    "from utils.transforms import *\n",
    "from utils.misc import *\n",
    "from utils.chem import *"
   ]
  },
  {
   "cell_type": "code",
   "execution_count": 2,
   "metadata": {},
   "outputs": [
    {
     "data": {
      "text/plain": [
       "<All keys matched successfully>"
      ]
     },
     "execution_count": 2,
     "metadata": {},
     "output_type": "execute_result"
    }
   ],
   "source": [
    "device = 'cuda:0'\n",
    "model = DualEncoderEpsNetwork().to(device)\n",
    "model.load_state_dict(torch.load(\"./param/cross_align.pt\"))"
   ]
  },
  {
   "cell_type": "code",
   "execution_count": 3,
   "metadata": {},
   "outputs": [],
   "source": [
    "mol = Chem.SDMolSupplier(f\"./mol/ligand_init.sdf\", sanitize=False)[0]"
   ]
  },
  {
   "cell_type": "code",
   "execution_count": 4,
   "metadata": {},
   "outputs": [
    {
     "data": {
      "application/vnd.jupyter.widget-view+json": {
       "model_id": "107e8fac14a641ef9893d06a51a233a3",
       "version_major": 2,
       "version_minor": 0
      },
      "text/plain": [
       "sample: 0it [00:00, ?it/s]"
      ]
     },
     "metadata": {},
     "output_type": "display_data"
    },
    {
     "name": "stderr",
     "output_type": "stream",
     "text": [
      "/home/iljung0810/Lab/DiffAlign/models/epsnet/dualenc.py:18: UserWarning: To copy construct from a tensor, it is recommended to use sourceTensor.clone().detach() or sourceTensor.clone().detach().requires_grad_(True), rather than torch.tensor(sourceTensor).\n",
      "  merge_batch.graph_idx = torch.tensor(merge_batch.batch)\n",
      "/home/iljung0810/Lab/DiffAlign/models/common.py:123: UserWarning: torch.sparse.SparseTensor(indices, values, shape, *, device=) is deprecated.  Please use torch.sparse_coo_tensor(indices, values, shape, dtype=, device=). (Triggered internally at /opt/conda/conda-bld/pytorch_1708025847094/work/torch/csrc/utils/tensor_new.cpp:618.)\n",
      "  bgraph_adj = torch.sparse.LongTensor(\n"
     ]
    }
   ],
   "source": [
    "batch1 = mol_to_graph_data_obj(mol)\n",
    "batch2 = copy.deepcopy(batch1)\n",
    "\n",
    "mean_pos = batch2['pos'].mean(0)\n",
    "batch2['pos'] = batch2['pos'] - mean_pos\n",
    "query_batch = Batch.from_data_list([batch1]).cuda()\n",
    "reference_batch = Batch.from_data_list([batch2]).cuda()\n",
    "query_batch.pos.normal_()\n",
    "\n",
    "model.eval()\n",
    "\n",
    "pos_gen, pos_gen_traj = model.DDIM_CFG_Sampling(\n",
    "    query_batch=query_batch,\n",
    "    reference_batch=reference_batch,\n",
    "    n_steps=200\n",
    ")\n",
    "reference_batch['pos'] = reference_batch['pos'] + mean_pos.cuda()\n",
    "pos_gen = pos_gen.cpu() + mean_pos.cpu()\n"
   ]
  },
  {
   "cell_type": "code",
   "execution_count": 5,
   "metadata": {},
   "outputs": [],
   "source": [
    "init_mol = set_rdmol_positions(mol, reference_batch[0]['pos'])\n",
    "gen_mol = set_rdmol_positions(mol, pos_gen)"
   ]
  },
  {
   "cell_type": "code",
   "execution_count": 6,
   "metadata": {},
   "outputs": [
    {
     "data": {
      "application/3dmoljs_load.v0": "<div id=\"3dmolviewer_17323085332410994\"  style=\"position: relative; width: 500px; height: 500px;\">\n        <p id=\"3dmolwarning_17323085332410994\" style=\"background-color:#ffcccc;color:black\">3Dmol.js failed to load for some reason.  Please check your browser console for error messages.<br></p>\n        </div>\n<script>\n\nvar loadScriptAsync = function(uri){\n  return new Promise((resolve, reject) => {\n    //this is to ignore the existence of requirejs amd\n    var savedexports, savedmodule;\n    if (typeof exports !== 'undefined') savedexports = exports;\n    else exports = {}\n    if (typeof module !== 'undefined') savedmodule = module;\n    else module = {}\n\n    var tag = document.createElement('script');\n    tag.src = uri;\n    tag.async = true;\n    tag.onload = () => {\n        exports = savedexports;\n        module = savedmodule;\n        resolve();\n    };\n  var firstScriptTag = document.getElementsByTagName('script')[0];\n  firstScriptTag.parentNode.insertBefore(tag, firstScriptTag);\n});\n};\n\nif(typeof $3Dmolpromise === 'undefined') {\n$3Dmolpromise = null;\n  $3Dmolpromise = loadScriptAsync('https://cdnjs.cloudflare.com/ajax/libs/3Dmol/2.3.0/3Dmol-min.js');\n}\n\nvar viewer_17323085332410994 = null;\nvar warn = document.getElementById(\"3dmolwarning_17323085332410994\");\nif(warn) {\n    warn.parentNode.removeChild(warn);\n}\n$3Dmolpromise.then(function() {\nviewer_17323085332410994 = $3Dmol.createViewer(document.getElementById(\"3dmolviewer_17323085332410994\"),{backgroundColor:\"white\"});\nviewer_17323085332410994.zoomTo();\n\tviewer_17323085332410994.addModel(\"1a69_ligand\\n     RDKit          3D\\n\\n 31 33  0  0  1  0  0  0  0  0999 V2000\\n  -18.6290   72.4960   64.7810 N   0  0  0  0  0  0  0  0  0  0  0  0\\n  -17.6590   72.8430   65.6920 C   0  0  0  0  0  0  0  0  0  0  0  0\\n  -17.4340   72.1880   66.8280 N   0  0  0  0  0  0  0  0  0  0  0  0\\n  -18.2650   71.1350   66.9710 C   0  0  0  0  0  0  0  0  0  0  0  0\\n  -19.2640   70.7080   66.1180 C   0  0  0  0  0  0  0  0  0  0  0  0\\n  -19.4960   71.4120   64.9200 C   0  0  0  0  0  0  0  0  0  0  0  0\\n  -20.3350   71.1770   64.0460 O   0  0  0  0  0  0  0  0  0  0  0  0\\n  -19.9000   69.5840   66.6230 N   0  0  0  0  0  2  0  0  0  0  0  0\\n  -19.2890   69.3560   67.7600 N   0  0  0  0  0  4  0  0  0  0  0  0\\n  -18.2820   70.2630   68.0340 C   0  0  0  0  0  0  0  0  0  0  0  0\\n  -17.5510   69.7970   69.2390 C   0  0  1  0  0  0  0  0  0  0  0  0\\n  -16.4120   70.7300   69.6340 C   0  0  2  0  0  0  0  0  0  0  0  0\\n  -15.2040   69.9950   69.6560 O   0  0  0  0  0  0  0  0  0  0  0  0\\n  -16.8460   71.3300   70.9950 C   0  0  2  0  0  0  0  0  0  0  0  0\\n  -16.1160   70.8000   72.1220 O   0  0  0  0  0  0  0  0  0  0  0  0\\n  -18.3190   70.9540   71.1130 C   0  0  2  0  0  0  0  0  0  0  0  0\\n  -18.4590   69.7460   70.3290 O   0  0  0  0  0  0  0  0  0  0  0  0\\n  -19.2870   72.0220   70.6090 C   0  0  1  0  0  0  0  0  0  0  0  0\\n  -20.6560   71.5800   70.5560 O   0  0  0  0  0  0  0  0  0  0  0  0\\n  -18.7201   73.0664   63.9525 H   0  0  0  0  0  0  0  0  0  0  0  0\\n  -17.0412   73.7009   65.4715 H   0  0  0  0  0  0  0  0  0  0  0  0\\n  -17.1523   68.7993   69.0552 H   0  0  0  0  0  0  0  0  0  0  0  0\\n  -16.3319   71.5302   68.8982 H   0  0  0  0  0  0  0  0  0  0  0  0\\n  -16.7442   72.4149   70.9680 H   0  0  0  0  0  0  0  0  0  0  0  0\\n  -18.5469   70.7304   72.1552 H   0  0  0  0  0  0  0  0  0  0  0  0\\n  -19.2283   72.8823   71.2757 H   0  0  0  0  0  0  0  0  0  0  0  0\\n  -18.9793   72.3309   69.6100 H   0  0  0  0  0  0  0  0  0  0  0  0\\n  -19.5302   68.5925   68.3757 H   0  0  0  0  0  0  0  0  0  0  0  0\\n  -21.2109   72.2936   70.2328 H   0  0  0  0  0  0  0  0  0  0  0  0\\n  -15.1894   71.0386   72.0444 H   0  0  0  0  0  0  0  0  0  0  0  0\\n  -14.4804   70.5751   69.9040 H   0  0  0  0  0  0  0  0  0  0  0  0\\n  1  2  1  0\\n  1  6  1  0\\n  2  3  2  0\\n  3  4  1  0\\n  4  5  2  0\\n  4 10  1  0\\n  5  6  1  0\\n  5  8  1  0\\n  6  7  2  0\\n  8  9  1  0\\n  9 10  2  0\\n 10 11  1  0\\n 11 12  1  0\\n 11 17  1  0\\n 11 22  1  6\\n 12 13  1  0\\n 12 14  1  0\\n 12 23  1  6\\n 14 15  1  0\\n 14 16  1  0\\n 14 24  1  6\\n 16 17  1  0\\n 16 18  1  0\\n 16 25  1  1\\n 18 19  1  0\\n 20  1  1  0\\n 21  2  1  0\\n 18 26  1  1\\n 27 18  1  0\\n 28  9  1  0\\n 29 19  1  0\\n 30 15  1  0\\n 31 13  1  0\\nM  END\\n\",\"mol\");\n\tviewer_17323085332410994.addModel(\"1a69_ligand\\n     RDKit          3D\\n\\n 31 33  0  0  1  0  0  0  0  0999 V2000\\n  -18.5431   72.5108   64.7713 N   0  0  0  0  0  0  0  0  0  0  0  0\\n  -17.5246   72.8386   65.8030 C   0  0  0  0  0  0  0  0  0  0  0  0\\n  -17.4180   72.1462   66.8413 N   0  0  0  0  0  0  0  0  0  0  0  0\\n  -18.2733   71.0666   67.0649 C   0  0  0  0  0  0  0  0  0  0  0  0\\n  -19.2910   70.6599   66.1634 C   0  0  0  0  0  0  0  0  0  0  0  0\\n  -19.4642   71.4427   64.9159 C   0  0  0  0  0  0  0  0  0  0  0  0\\n  -20.2784   71.3043   63.9360 O   0  0  0  0  0  0  0  0  0  0  0  0\\n  -19.9229   69.6154   66.6564 N   0  0  0  0  0  2  0  0  0  0  0  0\\n  -19.3161   69.2885   67.8837 N   0  0  0  0  0  4  0  0  0  0  0  0\\n  -18.2949   70.1596   68.2001 C   0  0  0  0  0  0  0  0  0  0  0  0\\n  -17.6613   69.6856   69.4370 C   0  0  1  0  0  0  0  0  0  0  0  0\\n  -16.5782   70.4511   69.7290 C   0  0  2  0  0  0  0  0  0  0  0  0\\n  -15.3417   69.5784   70.0916 O   0  0  0  0  0  0  0  0  0  0  0  0\\n  -17.0238   71.1983   71.0223 C   0  0  1  0  0  0  0  0  0  0  0  0\\n  -16.7037   72.6345   70.8962 O   0  0  0  0  0  0  0  0  0  0  0  0\\n  -18.4194   70.9531   71.1281 C   0  0  2  0  0  0  0  0  0  0  0  0\\n  -18.6371   69.7516   70.4217 O   0  0  0  0  0  0  0  0  0  0  0  0\\n  -19.2783   72.0282   70.4368 C   0  0  1  0  0  0  0  0  0  0  0  0\\n  -20.6647   71.5664   70.2243 O   0  0  0  0  0  0  0  0  0  0  0  0\\n  -18.5068   73.1472   63.9286 H   0  0  0  0  0  0  0  0  0  0  0  0\\n  -16.9971   73.6305   65.4835 H   0  0  0  0  0  0  0  0  0  0  0  0\\n  -17.1160   68.6512   69.4619 H   0  0  0  0  0  0  0  0  0  0  0  0\\n  -16.3007   71.2786   69.0027 H   0  0  0  0  0  0  0  0  0  0  0  0\\n  -16.4937   70.8950   71.9717 H   0  0  0  0  0  0  0  0  0  0  0  0\\n  -18.7232   70.8830   72.2703 H   0  0  0  0  0  0  0  0  0  0  0  0\\n  -19.3293   72.9411   71.0377 H   0  0  0  0  0  0  0  0  0  0  0  0\\n  -18.8273   72.2734   69.4832 H   0  0  0  0  0  0  0  0  0  0  0  0\\n  -19.7108   68.4688   68.4517 H   0  0  0  0  0  0  0  0  0  0  0  0\\n  -20.7368   70.7356   70.5938 H   0  0  0  0  0  0  0  0  0  0  0  0\\n  -17.0435   72.8885   70.0710 H   0  0  0  0  0  0  0  0  0  0  0  0\\n  -14.4692   70.0931   70.0080 H   0  0  0  0  0  0  0  0  0  0  0  0\\n  1  2  1  0\\n  1  6  1  0\\n  2  3  2  0\\n  3  4  1  0\\n  4  5  2  0\\n  4 10  1  0\\n  5  6  1  0\\n  5  8  1  0\\n  6  7  2  0\\n  8  9  1  0\\n  9 10  2  0\\n 10 11  1  0\\n 11 12  1  0\\n 11 17  1  0\\n 11 22  1  6\\n 12 13  1  0\\n 12 14  1  0\\n 12 23  1  6\\n 14 15  1  0\\n 14 16  1  0\\n 14 24  1  6\\n 16 17  1  0\\n 16 18  1  0\\n 16 25  1  1\\n 18 19  1  0\\n 20  1  1  0\\n 21  2  1  0\\n 18 26  1  1\\n 27 18  1  0\\n 28  9  1  0\\n 29 19  1  0\\n 30 15  1  0\\n 31 13  1  0\\nM  END\\n\",\"mol\");\n\tviewer_17323085332410994.setStyle({\"model\": 0},{\"stick\": {\"color\": \"orange\"}});\n\tviewer_17323085332410994.setStyle({\"model\": 1},{\"stick\": {\"color\": \"green\"}});\n\tviewer_17323085332410994.zoomTo();\nviewer_17323085332410994.render();\n});\n</script>",
      "text/html": [
       "<div id=\"3dmolviewer_17323085332410994\"  style=\"position: relative; width: 500px; height: 500px;\">\n",
       "        <p id=\"3dmolwarning_17323085332410994\" style=\"background-color:#ffcccc;color:black\">3Dmol.js failed to load for some reason.  Please check your browser console for error messages.<br></p>\n",
       "        </div>\n",
       "<script>\n",
       "\n",
       "var loadScriptAsync = function(uri){\n",
       "  return new Promise((resolve, reject) => {\n",
       "    //this is to ignore the existence of requirejs amd\n",
       "    var savedexports, savedmodule;\n",
       "    if (typeof exports !== 'undefined') savedexports = exports;\n",
       "    else exports = {}\n",
       "    if (typeof module !== 'undefined') savedmodule = module;\n",
       "    else module = {}\n",
       "\n",
       "    var tag = document.createElement('script');\n",
       "    tag.src = uri;\n",
       "    tag.async = true;\n",
       "    tag.onload = () => {\n",
       "        exports = savedexports;\n",
       "        module = savedmodule;\n",
       "        resolve();\n",
       "    };\n",
       "  var firstScriptTag = document.getElementsByTagName('script')[0];\n",
       "  firstScriptTag.parentNode.insertBefore(tag, firstScriptTag);\n",
       "});\n",
       "};\n",
       "\n",
       "if(typeof $3Dmolpromise === 'undefined') {\n",
       "$3Dmolpromise = null;\n",
       "  $3Dmolpromise = loadScriptAsync('https://cdnjs.cloudflare.com/ajax/libs/3Dmol/2.3.0/3Dmol-min.js');\n",
       "}\n",
       "\n",
       "var viewer_17323085332410994 = null;\n",
       "var warn = document.getElementById(\"3dmolwarning_17323085332410994\");\n",
       "if(warn) {\n",
       "    warn.parentNode.removeChild(warn);\n",
       "}\n",
       "$3Dmolpromise.then(function() {\n",
       "viewer_17323085332410994 = $3Dmol.createViewer(document.getElementById(\"3dmolviewer_17323085332410994\"),{backgroundColor:\"white\"});\n",
       "viewer_17323085332410994.zoomTo();\n",
       "\tviewer_17323085332410994.addModel(\"1a69_ligand\\n     RDKit          3D\\n\\n 31 33  0  0  1  0  0  0  0  0999 V2000\\n  -18.6290   72.4960   64.7810 N   0  0  0  0  0  0  0  0  0  0  0  0\\n  -17.6590   72.8430   65.6920 C   0  0  0  0  0  0  0  0  0  0  0  0\\n  -17.4340   72.1880   66.8280 N   0  0  0  0  0  0  0  0  0  0  0  0\\n  -18.2650   71.1350   66.9710 C   0  0  0  0  0  0  0  0  0  0  0  0\\n  -19.2640   70.7080   66.1180 C   0  0  0  0  0  0  0  0  0  0  0  0\\n  -19.4960   71.4120   64.9200 C   0  0  0  0  0  0  0  0  0  0  0  0\\n  -20.3350   71.1770   64.0460 O   0  0  0  0  0  0  0  0  0  0  0  0\\n  -19.9000   69.5840   66.6230 N   0  0  0  0  0  2  0  0  0  0  0  0\\n  -19.2890   69.3560   67.7600 N   0  0  0  0  0  4  0  0  0  0  0  0\\n  -18.2820   70.2630   68.0340 C   0  0  0  0  0  0  0  0  0  0  0  0\\n  -17.5510   69.7970   69.2390 C   0  0  1  0  0  0  0  0  0  0  0  0\\n  -16.4120   70.7300   69.6340 C   0  0  2  0  0  0  0  0  0  0  0  0\\n  -15.2040   69.9950   69.6560 O   0  0  0  0  0  0  0  0  0  0  0  0\\n  -16.8460   71.3300   70.9950 C   0  0  2  0  0  0  0  0  0  0  0  0\\n  -16.1160   70.8000   72.1220 O   0  0  0  0  0  0  0  0  0  0  0  0\\n  -18.3190   70.9540   71.1130 C   0  0  2  0  0  0  0  0  0  0  0  0\\n  -18.4590   69.7460   70.3290 O   0  0  0  0  0  0  0  0  0  0  0  0\\n  -19.2870   72.0220   70.6090 C   0  0  1  0  0  0  0  0  0  0  0  0\\n  -20.6560   71.5800   70.5560 O   0  0  0  0  0  0  0  0  0  0  0  0\\n  -18.7201   73.0664   63.9525 H   0  0  0  0  0  0  0  0  0  0  0  0\\n  -17.0412   73.7009   65.4715 H   0  0  0  0  0  0  0  0  0  0  0  0\\n  -17.1523   68.7993   69.0552 H   0  0  0  0  0  0  0  0  0  0  0  0\\n  -16.3319   71.5302   68.8982 H   0  0  0  0  0  0  0  0  0  0  0  0\\n  -16.7442   72.4149   70.9680 H   0  0  0  0  0  0  0  0  0  0  0  0\\n  -18.5469   70.7304   72.1552 H   0  0  0  0  0  0  0  0  0  0  0  0\\n  -19.2283   72.8823   71.2757 H   0  0  0  0  0  0  0  0  0  0  0  0\\n  -18.9793   72.3309   69.6100 H   0  0  0  0  0  0  0  0  0  0  0  0\\n  -19.5302   68.5925   68.3757 H   0  0  0  0  0  0  0  0  0  0  0  0\\n  -21.2109   72.2936   70.2328 H   0  0  0  0  0  0  0  0  0  0  0  0\\n  -15.1894   71.0386   72.0444 H   0  0  0  0  0  0  0  0  0  0  0  0\\n  -14.4804   70.5751   69.9040 H   0  0  0  0  0  0  0  0  0  0  0  0\\n  1  2  1  0\\n  1  6  1  0\\n  2  3  2  0\\n  3  4  1  0\\n  4  5  2  0\\n  4 10  1  0\\n  5  6  1  0\\n  5  8  1  0\\n  6  7  2  0\\n  8  9  1  0\\n  9 10  2  0\\n 10 11  1  0\\n 11 12  1  0\\n 11 17  1  0\\n 11 22  1  6\\n 12 13  1  0\\n 12 14  1  0\\n 12 23  1  6\\n 14 15  1  0\\n 14 16  1  0\\n 14 24  1  6\\n 16 17  1  0\\n 16 18  1  0\\n 16 25  1  1\\n 18 19  1  0\\n 20  1  1  0\\n 21  2  1  0\\n 18 26  1  1\\n 27 18  1  0\\n 28  9  1  0\\n 29 19  1  0\\n 30 15  1  0\\n 31 13  1  0\\nM  END\\n\",\"mol\");\n",
       "\tviewer_17323085332410994.addModel(\"1a69_ligand\\n     RDKit          3D\\n\\n 31 33  0  0  1  0  0  0  0  0999 V2000\\n  -18.5431   72.5108   64.7713 N   0  0  0  0  0  0  0  0  0  0  0  0\\n  -17.5246   72.8386   65.8030 C   0  0  0  0  0  0  0  0  0  0  0  0\\n  -17.4180   72.1462   66.8413 N   0  0  0  0  0  0  0  0  0  0  0  0\\n  -18.2733   71.0666   67.0649 C   0  0  0  0  0  0  0  0  0  0  0  0\\n  -19.2910   70.6599   66.1634 C   0  0  0  0  0  0  0  0  0  0  0  0\\n  -19.4642   71.4427   64.9159 C   0  0  0  0  0  0  0  0  0  0  0  0\\n  -20.2784   71.3043   63.9360 O   0  0  0  0  0  0  0  0  0  0  0  0\\n  -19.9229   69.6154   66.6564 N   0  0  0  0  0  2  0  0  0  0  0  0\\n  -19.3161   69.2885   67.8837 N   0  0  0  0  0  4  0  0  0  0  0  0\\n  -18.2949   70.1596   68.2001 C   0  0  0  0  0  0  0  0  0  0  0  0\\n  -17.6613   69.6856   69.4370 C   0  0  1  0  0  0  0  0  0  0  0  0\\n  -16.5782   70.4511   69.7290 C   0  0  2  0  0  0  0  0  0  0  0  0\\n  -15.3417   69.5784   70.0916 O   0  0  0  0  0  0  0  0  0  0  0  0\\n  -17.0238   71.1983   71.0223 C   0  0  1  0  0  0  0  0  0  0  0  0\\n  -16.7037   72.6345   70.8962 O   0  0  0  0  0  0  0  0  0  0  0  0\\n  -18.4194   70.9531   71.1281 C   0  0  2  0  0  0  0  0  0  0  0  0\\n  -18.6371   69.7516   70.4217 O   0  0  0  0  0  0  0  0  0  0  0  0\\n  -19.2783   72.0282   70.4368 C   0  0  1  0  0  0  0  0  0  0  0  0\\n  -20.6647   71.5664   70.2243 O   0  0  0  0  0  0  0  0  0  0  0  0\\n  -18.5068   73.1472   63.9286 H   0  0  0  0  0  0  0  0  0  0  0  0\\n  -16.9971   73.6305   65.4835 H   0  0  0  0  0  0  0  0  0  0  0  0\\n  -17.1160   68.6512   69.4619 H   0  0  0  0  0  0  0  0  0  0  0  0\\n  -16.3007   71.2786   69.0027 H   0  0  0  0  0  0  0  0  0  0  0  0\\n  -16.4937   70.8950   71.9717 H   0  0  0  0  0  0  0  0  0  0  0  0\\n  -18.7232   70.8830   72.2703 H   0  0  0  0  0  0  0  0  0  0  0  0\\n  -19.3293   72.9411   71.0377 H   0  0  0  0  0  0  0  0  0  0  0  0\\n  -18.8273   72.2734   69.4832 H   0  0  0  0  0  0  0  0  0  0  0  0\\n  -19.7108   68.4688   68.4517 H   0  0  0  0  0  0  0  0  0  0  0  0\\n  -20.7368   70.7356   70.5938 H   0  0  0  0  0  0  0  0  0  0  0  0\\n  -17.0435   72.8885   70.0710 H   0  0  0  0  0  0  0  0  0  0  0  0\\n  -14.4692   70.0931   70.0080 H   0  0  0  0  0  0  0  0  0  0  0  0\\n  1  2  1  0\\n  1  6  1  0\\n  2  3  2  0\\n  3  4  1  0\\n  4  5  2  0\\n  4 10  1  0\\n  5  6  1  0\\n  5  8  1  0\\n  6  7  2  0\\n  8  9  1  0\\n  9 10  2  0\\n 10 11  1  0\\n 11 12  1  0\\n 11 17  1  0\\n 11 22  1  6\\n 12 13  1  0\\n 12 14  1  0\\n 12 23  1  6\\n 14 15  1  0\\n 14 16  1  0\\n 14 24  1  6\\n 16 17  1  0\\n 16 18  1  0\\n 16 25  1  1\\n 18 19  1  0\\n 20  1  1  0\\n 21  2  1  0\\n 18 26  1  1\\n 27 18  1  0\\n 28  9  1  0\\n 29 19  1  0\\n 30 15  1  0\\n 31 13  1  0\\nM  END\\n\",\"mol\");\n",
       "\tviewer_17323085332410994.setStyle({\"model\": 0},{\"stick\": {\"color\": \"orange\"}});\n",
       "\tviewer_17323085332410994.setStyle({\"model\": 1},{\"stick\": {\"color\": \"green\"}});\n",
       "\tviewer_17323085332410994.zoomTo();\n",
       "viewer_17323085332410994.render();\n",
       "});\n",
       "</script>"
      ]
     },
     "metadata": {},
     "output_type": "display_data"
    }
   ],
   "source": [
    "mblock = Chem.MolToMolBlock(init_mol)\n",
    "view = py3Dmol.view(width=500, height=500)\n",
    "view.addModel(mblock, 'mol')\n",
    "mblock = Chem.MolToMolBlock(gen_mol)\n",
    "view.addModel(mblock, 'mol')\n",
    "view.setStyle({'model':0},{'stick':{'color': 'orange'}})\n",
    "view.setStyle({'model':1},{'stick':{'color': 'green'}})\n",
    "view.zoomTo()\n",
    "view.show()"
   ]
  }
 ],
 "metadata": {
  "kernelspec": {
   "display_name": "DiffAlign2",
   "language": "python",
   "name": "python3"
  },
  "language_info": {
   "codemirror_mode": {
    "name": "ipython",
    "version": 3
   },
   "file_extension": ".py",
   "mimetype": "text/x-python",
   "name": "python",
   "nbconvert_exporter": "python",
   "pygments_lexer": "ipython3",
   "version": "3.9.19"
  },
  "orig_nbformat": 4
 },
 "nbformat": 4,
 "nbformat_minor": 2
}
