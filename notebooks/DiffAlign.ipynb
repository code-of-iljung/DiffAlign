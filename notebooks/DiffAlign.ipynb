{
 "cells": [
  {
   "cell_type": "code",
   "execution_count": 1,
   "metadata": {},
   "outputs": [
    {
     "name": "stderr",
     "output_type": "stream",
     "text": [
      "/home/iljung0810/anaconda3/envs/DiffAlign/lib/python3.9/site-packages/tqdm/auto.py:21: TqdmWarning: IProgress not found. Please update jupyter and ipywidgets. See https://ipywidgets.readthedocs.io/en/stable/user_install.html\n",
      "  from .autonotebook import tqdm as notebook_tqdm\n"
     ]
    }
   ],
   "source": [
    "import os\n",
    "import yaml\n",
    "import torch\n",
    "from easydict import EasyDict\n",
    "from rdkit.Chem import AllChem\n",
    "\n",
    "%load_ext autoreload\n",
    "%autoreload 2\n",
    "\n",
    "os.chdir('..')\n",
    "os.getcwd()\n",
    "\n",
    "from models.epsnet import *\n",
    "from utils.datasets import *\n",
    "from utils.transforms import *\n",
    "from utils.misc import *\n",
    "from utils.chem import *"
   ]
  },
  {
   "cell_type": "code",
   "execution_count": 2,
   "metadata": {},
   "outputs": [
    {
     "data": {
      "text/plain": [
       "<All keys matched successfully>"
      ]
     },
     "execution_count": 2,
     "metadata": {},
     "output_type": "execute_result"
    }
   ],
   "source": [
    "device = 'cuda:0'\n",
    "model = DualEncoderEpsNetwork().to(device)\n",
    "model.load_state_dict(torch.load(\"./param/cross_align.pt\"))"
   ]
  },
  {
   "cell_type": "code",
   "execution_count": 3,
   "metadata": {},
   "outputs": [],
   "source": [
    "def bond_type_to_int(bond):\n",
    "    bond_type = bond.GetBondType()\n",
    "    if bond_type == Chem.rdchem.BondType.SINGLE:\n",
    "        return 1\n",
    "    elif bond_type == Chem.rdchem.BondType.DOUBLE:\n",
    "        return 2\n",
    "    elif bond_type == Chem.rdchem.BondType.TRIPLE:\n",
    "        return 3\n",
    "    elif bond_type == Chem.rdchem.BondType.AROMATIC:\n",
    "        return 12\n",
    "    else:\n",
    "        assert \"Bond type error\" # 기본적으로 단일 결합 처리\n",
    "\n",
    "def mol_to_graph_data_obj(mol):\n",
    "    # 노드 정보 (원자)\n",
    "    atom_features = []\n",
    "    for atom in mol.GetAtoms():\n",
    "        atom_features.append(atom.GetAtomicNum())  # 원자의 원자 번호 사용\n",
    "    x = torch.tensor(atom_features, dtype=torch.int)\n",
    "\n",
    "    # 엣지 정보 (결합)\n",
    "    edges = []\n",
    "    bond_types = []\n",
    "    for bond in mol.GetBonds():\n",
    "        i = bond.GetBeginAtomIdx()\n",
    "        j = bond.GetEndAtomIdx()\n",
    "        bond_type = bond_type_to_int(bond)\n",
    "\n",
    "        # 양방향 엣지와 해당 결합 타입 추가\n",
    "        edges.append((i, j))\n",
    "        bond_types.append(bond_type)\n",
    "        edges.append((j, i))\n",
    "        bond_types.append(bond_type)\n",
    "\n",
    "    edge_index = torch.tensor(edges, dtype=torch.long).t().contiguous()\n",
    "    edge_attr = torch.tensor(bond_types, dtype=torch.float).view(-1)\n",
    "\n",
    "    conf = mol.GetConformer()\n",
    "    coordinates = []\n",
    "    for atom in mol.GetAtoms():\n",
    "        pos = conf.GetAtomPosition(atom.GetIdx())\n",
    "        coordinates.append([pos.x, pos.y, pos.z])\n",
    "    pos = torch.tensor(coordinates, dtype=torch.float)\n",
    "\n",
    "\n",
    "    # PyTorch Geometric의 Data 객체 생성\n",
    "    data = Data(atom_type=x, edge_index=edge_index, edge_type=edge_attr, pos=pos)\n",
    "    \n",
    "    return data"
   ]
  },
  {
   "cell_type": "code",
   "execution_count": 4,
   "metadata": {},
   "outputs": [],
   "source": [
    "mol = Chem.SDMolSupplier(f\"./mol/ligand_init.sdf\", sanitize=False)[0]"
   ]
  },
  {
   "cell_type": "code",
   "execution_count": 7,
   "metadata": {},
   "outputs": [
    {
     "name": "stderr",
     "output_type": "stream",
     "text": [
      "/home/iljung0810/Lab/DiffAlign_git/models/epsnet/dualenc.py:23: UserWarning: To copy construct from a tensor, it is recommended to use sourceTensor.clone().detach() or sourceTensor.clone().detach().requires_grad_(True), rather than torch.tensor(sourceTensor).\n",
      "  merge_batch.graph_idx = torch.tensor(merge_batch.batch)\n",
      "sample: 0it [00:00, ?it/s]/home/iljung0810/Lab/DiffAlign_git/models/common.py:192: UserWarning: torch.sparse.SparseTensor(indices, values, shape, *, device=) is deprecated.  Please use torch.sparse_coo_tensor(indices, values, shape, dtype=, device=). (Triggered internally at /opt/conda/conda-bld/pytorch_1708025847094/work/torch/csrc/utils/tensor_new.cpp:618.)\n",
      "  bgraph_adj = torch.sparse.LongTensor(\n",
      "sample: 199it [00:03, 63.23it/s]\n"
     ]
    }
   ],
   "source": [
    "n_steps = 200 \n",
    "\n",
    "batch1 = mol_to_graph_data_obj(mol)\n",
    "batch2 = copy.deepcopy(batch1)\n",
    "mean_pos = batch2['pos'].mean(0)\n",
    "batch2['pos'] = batch2['pos'] - mean_pos\n",
    "ligand_batch = Batch.from_data_list([batch1]).cuda()\n",
    "template_batch = Batch.from_data_list([batch2]).cuda()\n",
    "model.eval()\n",
    "\n",
    "ligand_batch.pos.normal_()\n",
    "ligand_batch.pos = ligand_batch.pos/4\n",
    "\n",
    "pos_gen, pos_gen_traj = model.langevin_dynamics_sample_ddim_g(\n",
    "    ligand_batch=ligand_batch,\n",
    "    template_batch=template_batch,\n",
    "    extend_order=True, # Done in transforms.\n",
    "    n_steps=n_steps,\n",
    "    step_lr=1e-6,\n",
    "    w_global=0.9,\n",
    "    global_start_sigma=1.0,\n",
    "    clip=1000.0,\n",
    "    clip_local=None,\n",
    "    sampling_type='generalized',\n",
    "    #sampling_type='generalized',\n",
    "    eta=1.0\n",
    ")\n",
    "template_batch['pos'] = template_batch['pos'] + mean_pos.cuda()\n",
    "pos_gen = pos_gen.cpu() + mean_pos.cpu()\n"
   ]
  },
  {
   "cell_type": "code",
   "execution_count": 8,
   "metadata": {},
   "outputs": [],
   "source": [
    "init_mol = set_rdmol_positions(mol, template_batch[0]['pos'])\n",
    "gen_mol = set_rdmol_positions(mol, pos_gen)"
   ]
  },
  {
   "cell_type": "code",
   "execution_count": 9,
   "metadata": {},
   "outputs": [],
   "source": [
    "import py3Dmol"
   ]
  },
  {
   "cell_type": "code",
   "execution_count": 10,
   "metadata": {},
   "outputs": [],
   "source": [
    "def show(mol):\n",
    "  mblock = Chem.MolToMolBlock(mol)\n",
    "  view = py3Dmol.view(width=500, height=500)\n",
    "  view.addModel(mblock, 'mol')\n",
    "  view.setStyle({'stick':{}})\n",
    "  view.zoomTo()\n",
    "  view.show()"
   ]
  },
  {
   "cell_type": "code",
   "execution_count": 11,
   "metadata": {},
   "outputs": [
    {
     "data": {
      "application/3dmoljs_load.v0": "<div id=\"3dmolviewer_17297812178644943\"  style=\"position: relative; width: 500px; height: 500px;\">\n        <p id=\"3dmolwarning_17297812178644943\" style=\"background-color:#ffcccc;color:black\">3Dmol.js failed to load for some reason.  Please check your browser console for error messages.<br></p>\n        </div>\n<script>\n\nvar loadScriptAsync = function(uri){\n  return new Promise((resolve, reject) => {\n    //this is to ignore the existence of requirejs amd\n    var savedexports, savedmodule;\n    if (typeof exports !== 'undefined') savedexports = exports;\n    else exports = {}\n    if (typeof module !== 'undefined') savedmodule = module;\n    else module = {}\n\n    var tag = document.createElement('script');\n    tag.src = uri;\n    tag.async = true;\n    tag.onload = () => {\n        exports = savedexports;\n        module = savedmodule;\n        resolve();\n    };\n  var firstScriptTag = document.getElementsByTagName('script')[0];\n  firstScriptTag.parentNode.insertBefore(tag, firstScriptTag);\n});\n};\n\nif(typeof $3Dmolpromise === 'undefined') {\n$3Dmolpromise = null;\n  $3Dmolpromise = loadScriptAsync('https://cdnjs.cloudflare.com/ajax/libs/3Dmol/2.3.0/3Dmol-min.js');\n}\n\nvar viewer_17297812178644943 = null;\nvar warn = document.getElementById(\"3dmolwarning_17297812178644943\");\nif(warn) {\n    warn.parentNode.removeChild(warn);\n}\n$3Dmolpromise.then(function() {\nviewer_17297812178644943 = $3Dmol.createViewer(document.getElementById(\"3dmolviewer_17297812178644943\"),{backgroundColor:\"white\"});\nviewer_17297812178644943.zoomTo();\n\tviewer_17297812178644943.addModel(\"1a69_ligand\\n     RDKit          3D\\n\\n 31 33  0  0  1  0  0  0  0  0999 V2000\\n  -18.6290   72.4960   64.7810 N   0  0  0  0  0  0  0  0  0  0  0  0\\n  -17.6590   72.8430   65.6920 C   0  0  0  0  0  0  0  0  0  0  0  0\\n  -17.4340   72.1880   66.8280 N   0  0  0  0  0  0  0  0  0  0  0  0\\n  -18.2650   71.1350   66.9710 C   0  0  0  0  0  0  0  0  0  0  0  0\\n  -19.2640   70.7080   66.1180 C   0  0  0  0  0  0  0  0  0  0  0  0\\n  -19.4960   71.4120   64.9200 C   0  0  0  0  0  0  0  0  0  0  0  0\\n  -20.3350   71.1770   64.0460 O   0  0  0  0  0  0  0  0  0  0  0  0\\n  -19.9000   69.5840   66.6230 N   0  0  0  0  0  2  0  0  0  0  0  0\\n  -19.2890   69.3560   67.7600 N   0  0  0  0  0  4  0  0  0  0  0  0\\n  -18.2820   70.2630   68.0340 C   0  0  0  0  0  0  0  0  0  0  0  0\\n  -17.5510   69.7970   69.2390 C   0  0  1  0  0  0  0  0  0  0  0  0\\n  -16.4120   70.7300   69.6340 C   0  0  2  0  0  0  0  0  0  0  0  0\\n  -15.2040   69.9950   69.6560 O   0  0  0  0  0  0  0  0  0  0  0  0\\n  -16.8460   71.3300   70.9950 C   0  0  2  0  0  0  0  0  0  0  0  0\\n  -16.1160   70.8000   72.1220 O   0  0  0  0  0  0  0  0  0  0  0  0\\n  -18.3190   70.9540   71.1130 C   0  0  2  0  0  0  0  0  0  0  0  0\\n  -18.4590   69.7460   70.3290 O   0  0  0  0  0  0  0  0  0  0  0  0\\n  -19.2870   72.0220   70.6090 C   0  0  1  0  0  0  0  0  0  0  0  0\\n  -20.6560   71.5800   70.5560 O   0  0  0  0  0  0  0  0  0  0  0  0\\n  -18.7201   73.0664   63.9525 H   0  0  0  0  0  0  0  0  0  0  0  0\\n  -17.0412   73.7009   65.4715 H   0  0  0  0  0  0  0  0  0  0  0  0\\n  -17.1523   68.7993   69.0552 H   0  0  0  0  0  0  0  0  0  0  0  0\\n  -16.3319   71.5302   68.8982 H   0  0  0  0  0  0  0  0  0  0  0  0\\n  -16.7442   72.4149   70.9680 H   0  0  0  0  0  0  0  0  0  0  0  0\\n  -18.5469   70.7304   72.1552 H   0  0  0  0  0  0  0  0  0  0  0  0\\n  -19.2283   72.8823   71.2757 H   0  0  0  0  0  0  0  0  0  0  0  0\\n  -18.9793   72.3309   69.6100 H   0  0  0  0  0  0  0  0  0  0  0  0\\n  -19.5302   68.5925   68.3757 H   0  0  0  0  0  0  0  0  0  0  0  0\\n  -21.2109   72.2936   70.2328 H   0  0  0  0  0  0  0  0  0  0  0  0\\n  -15.1894   71.0386   72.0444 H   0  0  0  0  0  0  0  0  0  0  0  0\\n  -14.4804   70.5751   69.9040 H   0  0  0  0  0  0  0  0  0  0  0  0\\n  1  2  1  0\\n  1  6  1  0\\n  2  3  2  0\\n  3  4  1  0\\n  4  5  2  0\\n  4 10  1  0\\n  5  6  1  0\\n  5  8  1  0\\n  6  7  2  0\\n  8  9  1  0\\n  9 10  2  0\\n 10 11  1  0\\n 11 12  1  0\\n 11 17  1  0\\n 11 22  1  6\\n 12 13  1  0\\n 12 14  1  0\\n 12 23  1  6\\n 14 15  1  0\\n 14 16  1  0\\n 14 24  1  6\\n 16 17  1  0\\n 16 18  1  0\\n 16 25  1  1\\n 18 19  1  0\\n 20  1  1  0\\n 21  2  1  0\\n 18 26  1  1\\n 27 18  1  0\\n 28  9  1  0\\n 29 19  1  0\\n 30 15  1  0\\n 31 13  1  0\\nM  END\\n\",\"mol\");\n\tviewer_17297812178644943.addModel(\"1a69_ligand\\n     RDKit          3D\\n\\n 31 33  0  0  1  0  0  0  0  0999 V2000\\n  -18.5479   72.5245   64.8180 N   0  0  0  0  0  0  0  0  0  0  0  0\\n  -17.6180   72.8059   65.7103 C   0  0  0  0  0  0  0  0  0  0  0  0\\n  -17.4354   72.0572   66.8625 N   0  0  0  0  0  0  0  0  0  0  0  0\\n  -18.2705   71.0008   67.0716 C   0  0  0  0  0  0  0  0  0  0  0  0\\n  -19.3542   70.6281   66.1489 C   0  0  0  0  0  0  0  0  0  0  0  0\\n  -19.4545   71.4740   64.9639 C   0  0  0  0  0  0  0  0  0  0  0  0\\n  -20.2991   71.2885   64.0972 O   0  0  0  0  0  0  0  0  0  0  0  0\\n  -19.9770   69.5908   66.6180 N   0  0  0  0  0  2  0  0  0  0  0  0\\n  -19.3559   69.2149   67.8674 N   0  0  0  0  0  4  0  0  0  0  0  0\\n  -18.3545   70.0746   68.1638 C   0  0  0  0  0  0  0  0  0  0  0  0\\n  -17.5907   69.7225   69.4881 C   0  0  1  0  0  0  0  0  0  0  0  0\\n  -16.5601   70.4546   69.7074 C   0  0  2  0  0  0  0  0  0  0  0  0\\n  -15.4005   69.6632   70.1498 O   0  0  0  0  0  0  0  0  0  0  0  0\\n  -16.9939   71.3657   70.9266 C   0  0  2  0  0  0  0  0  0  0  0  0\\n  -16.2168   71.1790   72.0554 O   0  0  0  0  0  0  0  0  0  0  0  0\\n  -18.4122   70.9642   71.1823 C   0  0  2  0  0  0  0  0  0  0  0  0\\n  -18.6001   69.7471   70.5924 O   0  0  0  0  0  0  0  0  0  0  0  0\\n  -19.3490   72.0588   70.4710 C   0  0  2  0  0  0  0  0  0  0  0  0\\n  -20.5537   71.4806   70.2854 O   0  0  0  0  0  0  0  0  0  0  0  0\\n  -18.6114   73.1113   63.9999 H   0  0  0  0  0  0  0  0  0  0  0  0\\n  -16.9836   73.6611   65.4764 H   0  0  0  0  0  0  0  0  0  0  0  0\\n  -17.1512   68.6436   69.6560 H   0  0  0  0  0  0  0  0  0  0  0  0\\n  -16.2261   71.0436   68.8733 H   0  0  0  0  0  0  0  0  0  0  0  0\\n  -16.9928   72.4259   70.7344 H   0  0  0  0  0  0  0  0  0  0  0  0\\n  -18.6217   71.0056   72.2421 H   0  0  0  0  0  0  0  0  0  0  0  0\\n  -18.9333   72.4348   69.6313 H   0  0  0  0  0  0  0  0  0  0  0  0\\n  -19.4699   72.9150   71.1934 H   0  0  0  0  0  0  0  0  0  0  0  0\\n  -19.7141   68.4080   68.4355 H   0  0  0  0  0  0  0  0  0  0  0  0\\n  -21.0873   70.9542   70.5585 H   0  0  0  0  0  0  0  0  0  0  0  0\\n  -15.3145   71.2669   71.7747 H   0  0  0  0  0  0  0  0  0  0  0  0\\n  -15.5184   68.8387   69.7762 H   0  0  0  0  0  0  0  0  0  0  0  0\\n  1  2  1  0\\n  1  6  1  0\\n  2  3  2  0\\n  3  4  1  0\\n  4  5  2  0\\n  4 10  1  0\\n  5  6  1  0\\n  5  8  1  0\\n  6  7  2  0\\n  8  9  1  0\\n  9 10  2  0\\n 10 11  1  0\\n 11 12  1  0\\n 11 17  1  0\\n 11 22  1  6\\n 12 13  1  0\\n 12 14  1  0\\n 12 23  1  6\\n 14 15  1  0\\n 14 16  1  0\\n 14 24  1  6\\n 16 17  1  0\\n 16 18  1  0\\n 16 25  1  1\\n 18 19  1  0\\n 20  1  1  0\\n 21  2  1  0\\n 18 26  1  1\\n 27 18  1  0\\n 28  9  1  0\\n 29 19  1  0\\n 30 15  1  0\\n 31 13  1  0\\nM  END\\n\",\"mol\");\n\tviewer_17297812178644943.setStyle({\"model\": 0},{\"stick\": {\"color\": \"orange\"}});\n\tviewer_17297812178644943.setStyle({\"model\": 1},{\"stick\": {\"color\": \"green\"}});\n\tviewer_17297812178644943.zoomTo();\nviewer_17297812178644943.render();\n});\n</script>",
      "text/html": [
       "<div id=\"3dmolviewer_17297812178644943\"  style=\"position: relative; width: 500px; height: 500px;\">\n",
       "        <p id=\"3dmolwarning_17297812178644943\" style=\"background-color:#ffcccc;color:black\">3Dmol.js failed to load for some reason.  Please check your browser console for error messages.<br></p>\n",
       "        </div>\n",
       "<script>\n",
       "\n",
       "var loadScriptAsync = function(uri){\n",
       "  return new Promise((resolve, reject) => {\n",
       "    //this is to ignore the existence of requirejs amd\n",
       "    var savedexports, savedmodule;\n",
       "    if (typeof exports !== 'undefined') savedexports = exports;\n",
       "    else exports = {}\n",
       "    if (typeof module !== 'undefined') savedmodule = module;\n",
       "    else module = {}\n",
       "\n",
       "    var tag = document.createElement('script');\n",
       "    tag.src = uri;\n",
       "    tag.async = true;\n",
       "    tag.onload = () => {\n",
       "        exports = savedexports;\n",
       "        module = savedmodule;\n",
       "        resolve();\n",
       "    };\n",
       "  var firstScriptTag = document.getElementsByTagName('script')[0];\n",
       "  firstScriptTag.parentNode.insertBefore(tag, firstScriptTag);\n",
       "});\n",
       "};\n",
       "\n",
       "if(typeof $3Dmolpromise === 'undefined') {\n",
       "$3Dmolpromise = null;\n",
       "  $3Dmolpromise = loadScriptAsync('https://cdnjs.cloudflare.com/ajax/libs/3Dmol/2.3.0/3Dmol-min.js');\n",
       "}\n",
       "\n",
       "var viewer_17297812178644943 = null;\n",
       "var warn = document.getElementById(\"3dmolwarning_17297812178644943\");\n",
       "if(warn) {\n",
       "    warn.parentNode.removeChild(warn);\n",
       "}\n",
       "$3Dmolpromise.then(function() {\n",
       "viewer_17297812178644943 = $3Dmol.createViewer(document.getElementById(\"3dmolviewer_17297812178644943\"),{backgroundColor:\"white\"});\n",
       "viewer_17297812178644943.zoomTo();\n",
       "\tviewer_17297812178644943.addModel(\"1a69_ligand\\n     RDKit          3D\\n\\n 31 33  0  0  1  0  0  0  0  0999 V2000\\n  -18.6290   72.4960   64.7810 N   0  0  0  0  0  0  0  0  0  0  0  0\\n  -17.6590   72.8430   65.6920 C   0  0  0  0  0  0  0  0  0  0  0  0\\n  -17.4340   72.1880   66.8280 N   0  0  0  0  0  0  0  0  0  0  0  0\\n  -18.2650   71.1350   66.9710 C   0  0  0  0  0  0  0  0  0  0  0  0\\n  -19.2640   70.7080   66.1180 C   0  0  0  0  0  0  0  0  0  0  0  0\\n  -19.4960   71.4120   64.9200 C   0  0  0  0  0  0  0  0  0  0  0  0\\n  -20.3350   71.1770   64.0460 O   0  0  0  0  0  0  0  0  0  0  0  0\\n  -19.9000   69.5840   66.6230 N   0  0  0  0  0  2  0  0  0  0  0  0\\n  -19.2890   69.3560   67.7600 N   0  0  0  0  0  4  0  0  0  0  0  0\\n  -18.2820   70.2630   68.0340 C   0  0  0  0  0  0  0  0  0  0  0  0\\n  -17.5510   69.7970   69.2390 C   0  0  1  0  0  0  0  0  0  0  0  0\\n  -16.4120   70.7300   69.6340 C   0  0  2  0  0  0  0  0  0  0  0  0\\n  -15.2040   69.9950   69.6560 O   0  0  0  0  0  0  0  0  0  0  0  0\\n  -16.8460   71.3300   70.9950 C   0  0  2  0  0  0  0  0  0  0  0  0\\n  -16.1160   70.8000   72.1220 O   0  0  0  0  0  0  0  0  0  0  0  0\\n  -18.3190   70.9540   71.1130 C   0  0  2  0  0  0  0  0  0  0  0  0\\n  -18.4590   69.7460   70.3290 O   0  0  0  0  0  0  0  0  0  0  0  0\\n  -19.2870   72.0220   70.6090 C   0  0  1  0  0  0  0  0  0  0  0  0\\n  -20.6560   71.5800   70.5560 O   0  0  0  0  0  0  0  0  0  0  0  0\\n  -18.7201   73.0664   63.9525 H   0  0  0  0  0  0  0  0  0  0  0  0\\n  -17.0412   73.7009   65.4715 H   0  0  0  0  0  0  0  0  0  0  0  0\\n  -17.1523   68.7993   69.0552 H   0  0  0  0  0  0  0  0  0  0  0  0\\n  -16.3319   71.5302   68.8982 H   0  0  0  0  0  0  0  0  0  0  0  0\\n  -16.7442   72.4149   70.9680 H   0  0  0  0  0  0  0  0  0  0  0  0\\n  -18.5469   70.7304   72.1552 H   0  0  0  0  0  0  0  0  0  0  0  0\\n  -19.2283   72.8823   71.2757 H   0  0  0  0  0  0  0  0  0  0  0  0\\n  -18.9793   72.3309   69.6100 H   0  0  0  0  0  0  0  0  0  0  0  0\\n  -19.5302   68.5925   68.3757 H   0  0  0  0  0  0  0  0  0  0  0  0\\n  -21.2109   72.2936   70.2328 H   0  0  0  0  0  0  0  0  0  0  0  0\\n  -15.1894   71.0386   72.0444 H   0  0  0  0  0  0  0  0  0  0  0  0\\n  -14.4804   70.5751   69.9040 H   0  0  0  0  0  0  0  0  0  0  0  0\\n  1  2  1  0\\n  1  6  1  0\\n  2  3  2  0\\n  3  4  1  0\\n  4  5  2  0\\n  4 10  1  0\\n  5  6  1  0\\n  5  8  1  0\\n  6  7  2  0\\n  8  9  1  0\\n  9 10  2  0\\n 10 11  1  0\\n 11 12  1  0\\n 11 17  1  0\\n 11 22  1  6\\n 12 13  1  0\\n 12 14  1  0\\n 12 23  1  6\\n 14 15  1  0\\n 14 16  1  0\\n 14 24  1  6\\n 16 17  1  0\\n 16 18  1  0\\n 16 25  1  1\\n 18 19  1  0\\n 20  1  1  0\\n 21  2  1  0\\n 18 26  1  1\\n 27 18  1  0\\n 28  9  1  0\\n 29 19  1  0\\n 30 15  1  0\\n 31 13  1  0\\nM  END\\n\",\"mol\");\n",
       "\tviewer_17297812178644943.addModel(\"1a69_ligand\\n     RDKit          3D\\n\\n 31 33  0  0  1  0  0  0  0  0999 V2000\\n  -18.5479   72.5245   64.8180 N   0  0  0  0  0  0  0  0  0  0  0  0\\n  -17.6180   72.8059   65.7103 C   0  0  0  0  0  0  0  0  0  0  0  0\\n  -17.4354   72.0572   66.8625 N   0  0  0  0  0  0  0  0  0  0  0  0\\n  -18.2705   71.0008   67.0716 C   0  0  0  0  0  0  0  0  0  0  0  0\\n  -19.3542   70.6281   66.1489 C   0  0  0  0  0  0  0  0  0  0  0  0\\n  -19.4545   71.4740   64.9639 C   0  0  0  0  0  0  0  0  0  0  0  0\\n  -20.2991   71.2885   64.0972 O   0  0  0  0  0  0  0  0  0  0  0  0\\n  -19.9770   69.5908   66.6180 N   0  0  0  0  0  2  0  0  0  0  0  0\\n  -19.3559   69.2149   67.8674 N   0  0  0  0  0  4  0  0  0  0  0  0\\n  -18.3545   70.0746   68.1638 C   0  0  0  0  0  0  0  0  0  0  0  0\\n  -17.5907   69.7225   69.4881 C   0  0  1  0  0  0  0  0  0  0  0  0\\n  -16.5601   70.4546   69.7074 C   0  0  2  0  0  0  0  0  0  0  0  0\\n  -15.4005   69.6632   70.1498 O   0  0  0  0  0  0  0  0  0  0  0  0\\n  -16.9939   71.3657   70.9266 C   0  0  2  0  0  0  0  0  0  0  0  0\\n  -16.2168   71.1790   72.0554 O   0  0  0  0  0  0  0  0  0  0  0  0\\n  -18.4122   70.9642   71.1823 C   0  0  2  0  0  0  0  0  0  0  0  0\\n  -18.6001   69.7471   70.5924 O   0  0  0  0  0  0  0  0  0  0  0  0\\n  -19.3490   72.0588   70.4710 C   0  0  2  0  0  0  0  0  0  0  0  0\\n  -20.5537   71.4806   70.2854 O   0  0  0  0  0  0  0  0  0  0  0  0\\n  -18.6114   73.1113   63.9999 H   0  0  0  0  0  0  0  0  0  0  0  0\\n  -16.9836   73.6611   65.4764 H   0  0  0  0  0  0  0  0  0  0  0  0\\n  -17.1512   68.6436   69.6560 H   0  0  0  0  0  0  0  0  0  0  0  0\\n  -16.2261   71.0436   68.8733 H   0  0  0  0  0  0  0  0  0  0  0  0\\n  -16.9928   72.4259   70.7344 H   0  0  0  0  0  0  0  0  0  0  0  0\\n  -18.6217   71.0056   72.2421 H   0  0  0  0  0  0  0  0  0  0  0  0\\n  -18.9333   72.4348   69.6313 H   0  0  0  0  0  0  0  0  0  0  0  0\\n  -19.4699   72.9150   71.1934 H   0  0  0  0  0  0  0  0  0  0  0  0\\n  -19.7141   68.4080   68.4355 H   0  0  0  0  0  0  0  0  0  0  0  0\\n  -21.0873   70.9542   70.5585 H   0  0  0  0  0  0  0  0  0  0  0  0\\n  -15.3145   71.2669   71.7747 H   0  0  0  0  0  0  0  0  0  0  0  0\\n  -15.5184   68.8387   69.7762 H   0  0  0  0  0  0  0  0  0  0  0  0\\n  1  2  1  0\\n  1  6  1  0\\n  2  3  2  0\\n  3  4  1  0\\n  4  5  2  0\\n  4 10  1  0\\n  5  6  1  0\\n  5  8  1  0\\n  6  7  2  0\\n  8  9  1  0\\n  9 10  2  0\\n 10 11  1  0\\n 11 12  1  0\\n 11 17  1  0\\n 11 22  1  6\\n 12 13  1  0\\n 12 14  1  0\\n 12 23  1  6\\n 14 15  1  0\\n 14 16  1  0\\n 14 24  1  6\\n 16 17  1  0\\n 16 18  1  0\\n 16 25  1  1\\n 18 19  1  0\\n 20  1  1  0\\n 21  2  1  0\\n 18 26  1  1\\n 27 18  1  0\\n 28  9  1  0\\n 29 19  1  0\\n 30 15  1  0\\n 31 13  1  0\\nM  END\\n\",\"mol\");\n",
       "\tviewer_17297812178644943.setStyle({\"model\": 0},{\"stick\": {\"color\": \"orange\"}});\n",
       "\tviewer_17297812178644943.setStyle({\"model\": 1},{\"stick\": {\"color\": \"green\"}});\n",
       "\tviewer_17297812178644943.zoomTo();\n",
       "viewer_17297812178644943.render();\n",
       "});\n",
       "</script>"
      ]
     },
     "metadata": {},
     "output_type": "display_data"
    }
   ],
   "source": [
    "mblock = Chem.MolToMolBlock(init_mol)\n",
    "view = py3Dmol.view(width=500, height=500)\n",
    "view.addModel(mblock, 'mol')\n",
    "mblock = Chem.MolToMolBlock(gen_mol)\n",
    "view.addModel(mblock, 'mol')\n",
    "view.setStyle({'model':0},{'stick':{'color': 'orange'}})\n",
    "view.setStyle({'model':1},{'stick':{'color': 'green'}})\n",
    "view.zoomTo()\n",
    "view.show()"
   ]
  }
 ],
 "metadata": {
  "kernelspec": {
   "display_name": "geodiff",
   "language": "python",
   "name": "python3"
  },
  "language_info": {
   "codemirror_mode": {
    "name": "ipython",
    "version": 3
   },
   "file_extension": ".py",
   "mimetype": "text/x-python",
   "name": "python",
   "nbconvert_exporter": "python",
   "pygments_lexer": "ipython3",
   "version": "3.9.19"
  },
  "orig_nbformat": 4,
  "vscode": {
   "interpreter": {
    "hash": "7df1a35ff63627fe5364ac2b388e0f38040546f5e1695808f604aaa253c016d2"
   }
  }
 },
 "nbformat": 4,
 "nbformat_minor": 2
}
